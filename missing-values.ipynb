{
 "cells": [
  {
   "cell_type": "code",
   "execution_count": 1,
   "id": "aa8e5f23",
   "metadata": {
    "_kg_hide-input": true,
    "_kg_hide-output": true,
    "execution": {
     "iopub.execute_input": "2023-04-21T13:40:52.202085Z",
     "iopub.status.busy": "2023-04-21T13:40:52.201222Z",
     "iopub.status.idle": "2023-04-21T13:40:53.588600Z",
     "shell.execute_reply": "2023-04-21T13:40:53.587445Z"
    },
    "papermill": {
     "duration": 1.395479,
     "end_time": "2023-04-21T13:40:53.591425",
     "exception": false,
     "start_time": "2023-04-21T13:40:52.195946",
     "status": "completed"
    },
    "tags": []
   },
   "outputs": [],
   "source": [
    "\n",
    "import pandas as pd\n",
    "from sklearn.model_selection import train_test_split\n",
    "\n",
    "data = pd.read_csv('../input/melbourne-housing-snapshot/melb_data.csv')\n",
    "\n",
    "y = data.Price\n",
    "\n",
    "melb_predictors = data.drop(['Price'], axis=1)\n",
    "X = melb_predictors.select_dtypes(exclude=['object'])\n",
    "\n",
    "X_train, X_valid, y_train, y_valid = train_test_split(X, y, train_size=0.8, test_size=0.2,\n",
    "                                                      random_state=0)"
   ]
  },
  {
   "cell_type": "code",
   "execution_count": 2,
   "id": "75b71fcd",
   "metadata": {
    "_kg_hide-input": true,
    "_kg_hide-output": true,
    "execution": {
     "iopub.execute_input": "2023-04-21T13:40:53.608718Z",
     "iopub.status.busy": "2023-04-21T13:40:53.608282Z",
     "iopub.status.idle": "2023-04-21T13:40:54.012025Z",
     "shell.execute_reply": "2023-04-21T13:40:54.010658Z"
    },
    "papermill": {
     "duration": 0.411656,
     "end_time": "2023-04-21T13:40:54.014914",
     "exception": false,
     "start_time": "2023-04-21T13:40:53.603258",
     "status": "completed"
    },
    "tags": []
   },
   "outputs": [],
   "source": [
    "\n",
    "from sklearn.ensemble import RandomForestRegressor\n",
    "from sklearn.metrics import mean_absolute_error\n",
    "\n",
    "def score_dataset(X_train, X_valid, y_train, y_valid):\n",
    "    model = RandomForestRegressor(n_estimators=10, random_state=0)\n",
    "    model.fit(X_train, y_train)\n",
    "    preds = model.predict(X_valid)\n",
    "    return mean_absolute_error(y_valid, preds)"
   ]
  },
  {
   "cell_type": "code",
   "execution_count": null,
   "id": "f1ef567d",
   "metadata": {
    "execution": {
     "iopub.execute_input": "2023-04-21T13:40:54.031964Z",
     "iopub.status.busy": "2023-04-21T13:40:54.031522Z",
     "iopub.status.idle": "2023-04-21T13:40:54.542657Z",
     "shell.execute_reply": "2023-04-21T13:40:54.541264Z"
    },
    "papermill": {
     "duration": 0.519409,
     "end_time": "2023-04-21T13:40:54.545608",
     "exception": false,
     "start_time": "2023-04-21T13:40:54.026199",
     "status": "completed"
    },
    "tags": []
   },
   "outputs": [],
   "source": [
    "\n",
    "cols_with_missing = [col for col in X_train.columns\n",
    "                     if X_train[col].isnull().any()]\n",
    "\n",
    "\n",
    "reduced_X_train = X_train.drop(cols_with_missing, axis=1)\n",
    "reduced_X_valid = X_valid.drop(cols_with_missing, axis=1)\n",
    "\n",
    "print(\"MAE from Approach 1 (Drop columns with missing values):\")\n",
    "print(score_dataset(reduced_X_train, reduced_X_valid, y_train, y_valid))"
   ]
  },
  {
   "cell_type": "code",
   "execution_count": null,
   "id": "09687042",
   "metadata": {
    "execution": {
     "iopub.execute_input": "2023-04-21T13:40:54.564084Z",
     "iopub.status.busy": "2023-04-21T13:40:54.563095Z",
     "iopub.status.idle": "2023-04-21T13:40:55.216772Z",
     "shell.execute_reply": "2023-04-21T13:40:55.215374Z"
    },
    "papermill": {
     "duration": 0.661708,
     "end_time": "2023-04-21T13:40:55.219381",
     "exception": false,
     "start_time": "2023-04-21T13:40:54.557673",
     "status": "completed"
    },
    "tags": []
   },
   "outputs": [],
   "source": [
    "from sklearn.impute import SimpleImputer\n",
    "\n",
    "my_imputer = SimpleImputer()\n",
    "imputed_X_train = pd.DataFrame(my_imputer.fit_transform(X_train))\n",
    "imputed_X_valid = pd.DataFrame(my_imputer.transform(X_valid))\n",
    "\n",
    "imputed_X_train.columns = X_train.columns\n",
    "imputed_X_valid.columns = X_valid.columns\n",
    "\n",
    "print(\"MAE from Approach 2 (Imputation):\")\n",
    "print(score_dataset(imputed_X_train, imputed_X_valid, y_train, y_valid))"
   ]
  },
  {
   "cell_type": "code",
   "execution_count": null,
   "id": "c6c621f7",
   "metadata": {
    "execution": {
     "iopub.execute_input": "2023-04-21T13:40:55.239224Z",
     "iopub.status.busy": "2023-04-21T13:40:55.238079Z",
     "iopub.status.idle": "2023-04-21T13:40:55.964457Z",
     "shell.execute_reply": "2023-04-21T13:40:55.962944Z"
    },
    "papermill": {
     "duration": 0.735324,
     "end_time": "2023-04-21T13:40:55.967310",
     "exception": false,
     "start_time": "2023-04-21T13:40:55.231986",
     "status": "completed"
    },
    "tags": []
   },
   "outputs": [],
   "source": [
    "\n",
    "X_train_plus = X_train.copy()\n",
    "X_valid_plus = X_valid.copy()\n",
    "\n",
    "for col in cols_with_missing:\n",
    "    X_train_plus[col + '_was_missing'] = X_train_plus[col].isnull()\n",
    "    X_valid_plus[col + '_was_missing'] = X_valid_plus[col].isnull()\n",
    "\n",
    "my_imputer = SimpleImputer()\n",
    "imputed_X_train_plus = pd.DataFrame(my_imputer.fit_transform(X_train_plus))\n",
    "imputed_X_valid_plus = pd.DataFrame(my_imputer.transform(X_valid_plus))\n",
    "\n",
    "imputed_X_train_plus.columns = X_train_plus.columns\n",
    "imputed_X_valid_plus.columns = X_valid_plus.columns\n",
    "\n",
    "print(\"MAE from Approach 3 (An Extension to Imputation):\")\n",
    "print(score_dataset(imputed_X_train_plus, imputed_X_valid_plus, y_train, y_valid))"
   ]
  },
  {
   "cell_type": "code",
   "execution_count": 6,
   "id": "c46bd5d6",
   "metadata": {
    "execution": {
     "iopub.execute_input": "2023-04-21T13:40:55.988155Z",
     "iopub.status.busy": "2023-04-21T13:40:55.987016Z",
     "iopub.status.idle": "2023-04-21T13:40:55.998281Z",
     "shell.execute_reply": "2023-04-21T13:40:55.997136Z"
    },
    "papermill": {
     "duration": 0.020267,
     "end_time": "2023-04-21T13:40:56.000823",
     "exception": false,
     "start_time": "2023-04-21T13:40:55.980556",
     "status": "completed"
    },
    "tags": []
   },
   "outputs": [
    {
     "name": "stdout",
     "output_type": "stream",
     "text": [
      "(10864, 12)\n",
      "Car               49\n",
      "BuildingArea    5156\n",
      "YearBuilt       4307\n",
      "dtype: int64\n"
     ]
    }
   ],
   "source": [
    "print(X_train.shape)\n",
    "\n",
    "missing_val_count_by_column = (X_train.isnull().sum())\n",
    "print(missing_val_count_by_column[missing_val_count_by_column > 0])"
   ]
  }
 ],
 "metadata": {
  "kernelspec": {
   "display_name": "Python 3",
   "language": "python",
   "name": "python3"
  },
  "language_info": {
   "codemirror_mode": {
    "name": "ipython",
    "version": 3
   },
   "file_extension": ".py",
   "mimetype": "text/x-python",
   "name": "python",
   "nbconvert_exporter": "python",
   "pygments_lexer": "ipython3",
   "version": "3.7.12"
  },
  "papermill": {
   "default_parameters": {},
   "duration": 15.891205,
   "end_time": "2023-04-21T13:40:56.746001",
   "environment_variables": {},
   "exception": null,
   "input_path": "__notebook__.ipynb",
   "output_path": "__notebook__.ipynb",
   "parameters": {},
   "start_time": "2023-04-21T13:40:40.854796",
   "version": "2.4.0"
  }
 },
 "nbformat": 4,
 "nbformat_minor": 5
}
